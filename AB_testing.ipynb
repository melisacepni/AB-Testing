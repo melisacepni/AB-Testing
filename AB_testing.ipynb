{
  "nbformat": 4,
  "nbformat_minor": 0,
  "metadata": {
    "colab": {
      "provenance": []
    },
    "kernelspec": {
      "name": "python3",
      "display_name": "Python 3"
    },
    "language_info": {
      "name": "python"
    }
  },
  "cells": [
    {
      "cell_type": "markdown",
      "source": [
        "# AB Testi ile Bidding Yöntemlerinin Dönüşümünün Karşılaştırılması"
      ],
      "metadata": {
        "id": "-4TDCAlPrpBx"
      }
    },
    {
      "cell_type": "markdown",
      "source": [
        "### Görev 1: Veriyi Hazırlama ve Analiz Etme"
      ],
      "metadata": {
        "id": "mqA647RqsJpx"
      }
    },
    {
      "cell_type": "code",
      "source": [
        "# Adım 1: ab_testing_data.xlsx adlı kontrol ve test grubu verilerinden oluşan veri setini okutunuz. Kontrol ve test grubu verilerini ayrı değişkenlere atayınız.\n",
        "\n",
        "import pandas as pd\n",
        "import numpy as np\n",
        "import pandas as pd\n",
        "import matplotlib.pyplot as plt\n",
        "from scipy.stats import shapiro, levene, ttest_ind\n",
        "pd.set_option('display.max_columns', None)\n",
        "pd.set_option('display.expand_frame_repr', False)\n",
        "pd.set_option('display.float_format', lambda x: '%.5f' % x)"
      ],
      "metadata": {
        "id": "_bfUIH0psLG5"
      },
      "execution_count": 2,
      "outputs": []
    },
    {
      "cell_type": "code",
      "source": [
        "control_group = pd.read_excel('ab_testing.xlsx' , sheet_name=\"Control Group\")\n",
        "test_group = pd.read_excel('ab_testing.xlsx' , sheet_name=\"Test Group\")"
      ],
      "metadata": {
        "id": "-39-vQOmuJ3x"
      },
      "execution_count": 6,
      "outputs": []
    },
    {
      "cell_type": "code",
      "source": [
        "# Adım 2: Kontrol ve test grubu verilerini analiz ediniz.\n",
        "\n",
        "def check_dataframe(dataframe, head=5):\n",
        "    print(\"Shape\")\n",
        "    print(dataframe.shape)\n",
        "    print(\"Types\")\n",
        "    print(dataframe.dtypes)\n",
        "    print(\"Head\")\n",
        "    print(dataframe.head())\n",
        "    print(\"Tail\")\n",
        "    print(dataframe.tail())\n",
        "    print(\"NA\")\n",
        "    print(dataframe.isnull().sum())\n",
        "    print(\"Quantiles\")\n",
        "    print(dataframe.quantile([0, 0.05, 0.25, 0.50, 0.75, 0.95, 0.99, 1]).T)\n",
        "\n",
        "check_dataframe(control_group)"
      ],
      "metadata": {
        "id": "9P9lsEgisNr-",
        "colab": {
          "base_uri": "https://localhost:8080/"
        },
        "outputId": "ba75101a-0240-4fbc-c94a-4950f2eabdbd"
      },
      "execution_count": 8,
      "outputs": [
        {
          "output_type": "stream",
          "name": "stdout",
          "text": [
            "Shape\n",
            "(40, 4)\n",
            "Types\n",
            "Impression    float64\n",
            "Click         float64\n",
            "Purchase      float64\n",
            "Earning       float64\n",
            "dtype: object\n",
            "Head\n",
            "    Impression      Click  Purchase    Earning\n",
            "0  82529.45927 6090.07732 665.21125 2311.27714\n",
            "1  98050.45193 3382.86179 315.08489 1742.80686\n",
            "2  82696.02355 4167.96575 458.08374 1797.82745\n",
            "3 109914.40040 4910.88224 487.09077 1696.22918\n",
            "4 108457.76263 5987.65581 441.03405 1543.72018\n",
            "Tail\n",
            "     Impression      Click  Purchase    Earning\n",
            "35 132064.21900 3747.15754 551.07241 2256.97559\n",
            "36  86409.94180 4608.25621 345.04603 1781.35769\n",
            "37 123678.93423 3649.07379 476.16813 2187.72122\n",
            "38 101997.49410 4736.35337 474.61354 2254.56383\n",
            "39 121085.88122 4285.17861 590.40602 1289.30895\n",
            "NA\n",
            "Impression    0\n",
            "Click         0\n",
            "Purchase      0\n",
            "Earning       0\n",
            "dtype: int64\n",
            "Quantiles\n",
            "               0.00000     0.05000     0.25000     0.50000      0.75000      0.95000      0.99000      1.00000\n",
            "Impression 45475.94296 79412.01792 85726.69035 99790.70108 115212.81654 132950.53245 143105.79110 147539.33633\n",
            "Click       2189.75316  3367.48426  4124.30413  5001.22060   5923.80360   7374.36120   7761.79511   7959.12507\n",
            "Purchase     267.02894   328.66242   470.09553   531.20631    637.95709    748.27076    790.18779    801.79502\n",
            "Earning     1253.98952  1329.57708  1685.84720  1975.16052   2119.80278   2318.52850   2481.30874   2497.29522\n"
          ]
        }
      ]
    },
    {
      "cell_type": "code",
      "source": [
        "check_dataframe(test_group)"
      ],
      "metadata": {
        "colab": {
          "base_uri": "https://localhost:8080/"
        },
        "id": "YAyNz0_JvuHx",
        "outputId": "f20199fc-abeb-4d21-9699-776c485a31c7"
      },
      "execution_count": 9,
      "outputs": [
        {
          "output_type": "stream",
          "name": "stdout",
          "text": [
            "Shape\n",
            "(40, 4)\n",
            "Types\n",
            "Impression    float64\n",
            "Click         float64\n",
            "Purchase      float64\n",
            "Earning       float64\n",
            "dtype: object\n",
            "Head\n",
            "    Impression      Click  Purchase    Earning\n",
            "0 120103.50380 3216.54796 702.16035 1939.61124\n",
            "1 134775.94336 3635.08242 834.05429 2929.40582\n",
            "2 107806.62079 3057.14356 422.93426 2526.24488\n",
            "3 116445.27553 4650.47391 429.03353 2281.42857\n",
            "4 145082.51684 5201.38772 749.86044 2781.69752\n",
            "Tail\n",
            "     Impression      Click  Purchase    Earning\n",
            "35  79234.91193 6002.21358 382.04712 2277.86398\n",
            "36 130702.23941 3626.32007 449.82459 2530.84133\n",
            "37 116481.87337 4702.78247 472.45373 2597.91763\n",
            "38  79033.83492 4495.42818 425.35910 2595.85788\n",
            "39 102257.45409 4800.06832 521.31073 2967.51839\n",
            "NA\n",
            "Impression    0\n",
            "Click         0\n",
            "Purchase      0\n",
            "Earning       0\n",
            "dtype: int64\n",
            "Quantiles\n",
            "               0.00000     0.05000      0.25000      0.50000      0.75000      0.95000      0.99000      1.00000\n",
            "Impression 79033.83492 83150.50378 112691.97077 119291.30077 132050.57893 153178.69106 158245.26380 158605.92048\n",
            "Click       1836.62986  2600.36102   3376.81902   3931.35980   4660.49791   5271.18691   6012.87730   6019.69508\n",
            "Purchase     311.62952   356.69540    444.62683    551.35573    699.86236    854.20895    876.57610    889.91046\n",
            "Earning     1939.61124  2080.97621   2280.53743   2544.66611   2761.54540   2931.31145   3091.94089   3171.48971\n"
          ]
        }
      ]
    },
    {
      "cell_type": "code",
      "source": [
        "# Adım 3: Analiz işleminden sonra concat metodunu kullanarak kontrol ve test grubu verilerini birleştiriniz.\n",
        "\n",
        "control_group[\"group\"] = \"control\"\n",
        "test_group[\"group\"] = \"test\"\n",
        "combined_data = pd.concat([control_group,test_group], axis=0)\n",
        "combined_data.head()"
      ],
      "metadata": {
        "id": "Oj5x1zIQsPnt",
        "colab": {
          "base_uri": "https://localhost:8080/",
          "height": 204
        },
        "outputId": "69e78d5e-84f8-48bc-ad65-3b342d8a6e42"
      },
      "execution_count": 12,
      "outputs": [
        {
          "output_type": "execute_result",
          "data": {
            "text/plain": [
              "    Impression      Click  Purchase    Earning    group\n",
              "0  82529.45927 6090.07732 665.21125 2311.27714  control\n",
              "1  98050.45193 3382.86179 315.08489 1742.80686  control\n",
              "2  82696.02355 4167.96575 458.08374 1797.82745  control\n",
              "3 109914.40040 4910.88224 487.09077 1696.22918  control\n",
              "4 108457.76263 5987.65581 441.03405 1543.72018  control"
            ],
            "text/html": [
              "\n",
              "  <div id=\"df-af175b1f-3c4e-439d-815d-e864e8f0cfe7\" class=\"colab-df-container\">\n",
              "    <div>\n",
              "<style scoped>\n",
              "    .dataframe tbody tr th:only-of-type {\n",
              "        vertical-align: middle;\n",
              "    }\n",
              "\n",
              "    .dataframe tbody tr th {\n",
              "        vertical-align: top;\n",
              "    }\n",
              "\n",
              "    .dataframe thead th {\n",
              "        text-align: right;\n",
              "    }\n",
              "</style>\n",
              "<table border=\"1\" class=\"dataframe\">\n",
              "  <thead>\n",
              "    <tr style=\"text-align: right;\">\n",
              "      <th></th>\n",
              "      <th>Impression</th>\n",
              "      <th>Click</th>\n",
              "      <th>Purchase</th>\n",
              "      <th>Earning</th>\n",
              "      <th>group</th>\n",
              "    </tr>\n",
              "  </thead>\n",
              "  <tbody>\n",
              "    <tr>\n",
              "      <th>0</th>\n",
              "      <td>82529.45927</td>\n",
              "      <td>6090.07732</td>\n",
              "      <td>665.21125</td>\n",
              "      <td>2311.27714</td>\n",
              "      <td>control</td>\n",
              "    </tr>\n",
              "    <tr>\n",
              "      <th>1</th>\n",
              "      <td>98050.45193</td>\n",
              "      <td>3382.86179</td>\n",
              "      <td>315.08489</td>\n",
              "      <td>1742.80686</td>\n",
              "      <td>control</td>\n",
              "    </tr>\n",
              "    <tr>\n",
              "      <th>2</th>\n",
              "      <td>82696.02355</td>\n",
              "      <td>4167.96575</td>\n",
              "      <td>458.08374</td>\n",
              "      <td>1797.82745</td>\n",
              "      <td>control</td>\n",
              "    </tr>\n",
              "    <tr>\n",
              "      <th>3</th>\n",
              "      <td>109914.40040</td>\n",
              "      <td>4910.88224</td>\n",
              "      <td>487.09077</td>\n",
              "      <td>1696.22918</td>\n",
              "      <td>control</td>\n",
              "    </tr>\n",
              "    <tr>\n",
              "      <th>4</th>\n",
              "      <td>108457.76263</td>\n",
              "      <td>5987.65581</td>\n",
              "      <td>441.03405</td>\n",
              "      <td>1543.72018</td>\n",
              "      <td>control</td>\n",
              "    </tr>\n",
              "  </tbody>\n",
              "</table>\n",
              "</div>\n",
              "    <div class=\"colab-df-buttons\">\n",
              "\n",
              "  <div class=\"colab-df-container\">\n",
              "    <button class=\"colab-df-convert\" onclick=\"convertToInteractive('df-af175b1f-3c4e-439d-815d-e864e8f0cfe7')\"\n",
              "            title=\"Convert this dataframe to an interactive table.\"\n",
              "            style=\"display:none;\">\n",
              "\n",
              "  <svg xmlns=\"http://www.w3.org/2000/svg\" height=\"24px\" viewBox=\"0 -960 960 960\">\n",
              "    <path d=\"M120-120v-720h720v720H120Zm60-500h600v-160H180v160Zm220 220h160v-160H400v160Zm0 220h160v-160H400v160ZM180-400h160v-160H180v160Zm440 0h160v-160H620v160ZM180-180h160v-160H180v160Zm440 0h160v-160H620v160Z\"/>\n",
              "  </svg>\n",
              "    </button>\n",
              "\n",
              "  <style>\n",
              "    .colab-df-container {\n",
              "      display:flex;\n",
              "      gap: 12px;\n",
              "    }\n",
              "\n",
              "    .colab-df-convert {\n",
              "      background-color: #E8F0FE;\n",
              "      border: none;\n",
              "      border-radius: 50%;\n",
              "      cursor: pointer;\n",
              "      display: none;\n",
              "      fill: #1967D2;\n",
              "      height: 32px;\n",
              "      padding: 0 0 0 0;\n",
              "      width: 32px;\n",
              "    }\n",
              "\n",
              "    .colab-df-convert:hover {\n",
              "      background-color: #E2EBFA;\n",
              "      box-shadow: 0px 1px 2px rgba(60, 64, 67, 0.3), 0px 1px 3px 1px rgba(60, 64, 67, 0.15);\n",
              "      fill: #174EA6;\n",
              "    }\n",
              "\n",
              "    .colab-df-buttons div {\n",
              "      margin-bottom: 4px;\n",
              "    }\n",
              "\n",
              "    [theme=dark] .colab-df-convert {\n",
              "      background-color: #3B4455;\n",
              "      fill: #D2E3FC;\n",
              "    }\n",
              "\n",
              "    [theme=dark] .colab-df-convert:hover {\n",
              "      background-color: #434B5C;\n",
              "      box-shadow: 0px 1px 3px 1px rgba(0, 0, 0, 0.15);\n",
              "      filter: drop-shadow(0px 1px 2px rgba(0, 0, 0, 0.3));\n",
              "      fill: #FFFFFF;\n",
              "    }\n",
              "  </style>\n",
              "\n",
              "    <script>\n",
              "      const buttonEl =\n",
              "        document.querySelector('#df-af175b1f-3c4e-439d-815d-e864e8f0cfe7 button.colab-df-convert');\n",
              "      buttonEl.style.display =\n",
              "        google.colab.kernel.accessAllowed ? 'block' : 'none';\n",
              "\n",
              "      async function convertToInteractive(key) {\n",
              "        const element = document.querySelector('#df-af175b1f-3c4e-439d-815d-e864e8f0cfe7');\n",
              "        const dataTable =\n",
              "          await google.colab.kernel.invokeFunction('convertToInteractive',\n",
              "                                                    [key], {});\n",
              "        if (!dataTable) return;\n",
              "\n",
              "        const docLinkHtml = 'Like what you see? Visit the ' +\n",
              "          '<a target=\"_blank\" href=https://colab.research.google.com/notebooks/data_table.ipynb>data table notebook</a>'\n",
              "          + ' to learn more about interactive tables.';\n",
              "        element.innerHTML = '';\n",
              "        dataTable['output_type'] = 'display_data';\n",
              "        await google.colab.output.renderOutput(dataTable, element);\n",
              "        const docLink = document.createElement('div');\n",
              "        docLink.innerHTML = docLinkHtml;\n",
              "        element.appendChild(docLink);\n",
              "      }\n",
              "    </script>\n",
              "  </div>\n",
              "\n",
              "\n",
              "<div id=\"df-f27b6348-1611-4fbe-9e04-b9ac26a02199\">\n",
              "  <button class=\"colab-df-quickchart\" onclick=\"quickchart('df-f27b6348-1611-4fbe-9e04-b9ac26a02199')\"\n",
              "            title=\"Suggest charts\"\n",
              "            style=\"display:none;\">\n",
              "\n",
              "<svg xmlns=\"http://www.w3.org/2000/svg\" height=\"24px\"viewBox=\"0 0 24 24\"\n",
              "     width=\"24px\">\n",
              "    <g>\n",
              "        <path d=\"M19 3H5c-1.1 0-2 .9-2 2v14c0 1.1.9 2 2 2h14c1.1 0 2-.9 2-2V5c0-1.1-.9-2-2-2zM9 17H7v-7h2v7zm4 0h-2V7h2v10zm4 0h-2v-4h2v4z\"/>\n",
              "    </g>\n",
              "</svg>\n",
              "  </button>\n",
              "\n",
              "<style>\n",
              "  .colab-df-quickchart {\n",
              "      --bg-color: #E8F0FE;\n",
              "      --fill-color: #1967D2;\n",
              "      --hover-bg-color: #E2EBFA;\n",
              "      --hover-fill-color: #174EA6;\n",
              "      --disabled-fill-color: #AAA;\n",
              "      --disabled-bg-color: #DDD;\n",
              "  }\n",
              "\n",
              "  [theme=dark] .colab-df-quickchart {\n",
              "      --bg-color: #3B4455;\n",
              "      --fill-color: #D2E3FC;\n",
              "      --hover-bg-color: #434B5C;\n",
              "      --hover-fill-color: #FFFFFF;\n",
              "      --disabled-bg-color: #3B4455;\n",
              "      --disabled-fill-color: #666;\n",
              "  }\n",
              "\n",
              "  .colab-df-quickchart {\n",
              "    background-color: var(--bg-color);\n",
              "    border: none;\n",
              "    border-radius: 50%;\n",
              "    cursor: pointer;\n",
              "    display: none;\n",
              "    fill: var(--fill-color);\n",
              "    height: 32px;\n",
              "    padding: 0;\n",
              "    width: 32px;\n",
              "  }\n",
              "\n",
              "  .colab-df-quickchart:hover {\n",
              "    background-color: var(--hover-bg-color);\n",
              "    box-shadow: 0 1px 2px rgba(60, 64, 67, 0.3), 0 1px 3px 1px rgba(60, 64, 67, 0.15);\n",
              "    fill: var(--button-hover-fill-color);\n",
              "  }\n",
              "\n",
              "  .colab-df-quickchart-complete:disabled,\n",
              "  .colab-df-quickchart-complete:disabled:hover {\n",
              "    background-color: var(--disabled-bg-color);\n",
              "    fill: var(--disabled-fill-color);\n",
              "    box-shadow: none;\n",
              "  }\n",
              "\n",
              "  .colab-df-spinner {\n",
              "    border: 2px solid var(--fill-color);\n",
              "    border-color: transparent;\n",
              "    border-bottom-color: var(--fill-color);\n",
              "    animation:\n",
              "      spin 1s steps(1) infinite;\n",
              "  }\n",
              "\n",
              "  @keyframes spin {\n",
              "    0% {\n",
              "      border-color: transparent;\n",
              "      border-bottom-color: var(--fill-color);\n",
              "      border-left-color: var(--fill-color);\n",
              "    }\n",
              "    20% {\n",
              "      border-color: transparent;\n",
              "      border-left-color: var(--fill-color);\n",
              "      border-top-color: var(--fill-color);\n",
              "    }\n",
              "    30% {\n",
              "      border-color: transparent;\n",
              "      border-left-color: var(--fill-color);\n",
              "      border-top-color: var(--fill-color);\n",
              "      border-right-color: var(--fill-color);\n",
              "    }\n",
              "    40% {\n",
              "      border-color: transparent;\n",
              "      border-right-color: var(--fill-color);\n",
              "      border-top-color: var(--fill-color);\n",
              "    }\n",
              "    60% {\n",
              "      border-color: transparent;\n",
              "      border-right-color: var(--fill-color);\n",
              "    }\n",
              "    80% {\n",
              "      border-color: transparent;\n",
              "      border-right-color: var(--fill-color);\n",
              "      border-bottom-color: var(--fill-color);\n",
              "    }\n",
              "    90% {\n",
              "      border-color: transparent;\n",
              "      border-bottom-color: var(--fill-color);\n",
              "    }\n",
              "  }\n",
              "</style>\n",
              "\n",
              "  <script>\n",
              "    async function quickchart(key) {\n",
              "      const quickchartButtonEl =\n",
              "        document.querySelector('#' + key + ' button');\n",
              "      quickchartButtonEl.disabled = true;  // To prevent multiple clicks.\n",
              "      quickchartButtonEl.classList.add('colab-df-spinner');\n",
              "      try {\n",
              "        const charts = await google.colab.kernel.invokeFunction(\n",
              "            'suggestCharts', [key], {});\n",
              "      } catch (error) {\n",
              "        console.error('Error during call to suggestCharts:', error);\n",
              "      }\n",
              "      quickchartButtonEl.classList.remove('colab-df-spinner');\n",
              "      quickchartButtonEl.classList.add('colab-df-quickchart-complete');\n",
              "    }\n",
              "    (() => {\n",
              "      let quickchartButtonEl =\n",
              "        document.querySelector('#df-f27b6348-1611-4fbe-9e04-b9ac26a02199 button');\n",
              "      quickchartButtonEl.style.display =\n",
              "        google.colab.kernel.accessAllowed ? 'block' : 'none';\n",
              "    })();\n",
              "  </script>\n",
              "</div>\n",
              "\n",
              "    </div>\n",
              "  </div>\n"
            ],
            "application/vnd.google.colaboratory.intrinsic+json": {
              "type": "dataframe",
              "variable_name": "combined_data",
              "summary": "{\n  \"name\": \"combined_data\",\n  \"rows\": 80,\n  \"fields\": [\n    {\n      \"column\": \"Impression\",\n      \"properties\": {\n        \"dtype\": \"number\",\n        \"std\": 21623.807746815637,\n        \"min\": 45475.94296496167,\n        \"max\": 158605.9204830669,\n        \"num_unique_values\": 80,\n        \"samples\": [\n          108051.8240518553,\n          82529.45927124521,\n          83676.60242811794\n        ],\n        \"semantic_type\": \"\",\n        \"description\": \"\"\n      }\n    },\n    {\n      \"column\": \"Click\",\n      \"properties\": {\n        \"dtype\": \"number\",\n        \"std\": 1272.3760731514465,\n        \"min\": 1836.629861313393,\n        \"max\": 7959.125068737114,\n        \"num_unique_values\": 80,\n        \"samples\": [\n          5919.244970426624,\n          6090.077316567174,\n          7153.974194547935\n        ],\n        \"semantic_type\": \"\",\n        \"description\": \"\"\n      }\n    },\n    {\n      \"column\": \"Purchase\",\n      \"properties\": {\n        \"dtype\": \"number\",\n        \"std\": 148.14183989275048,\n        \"min\": 267.0289428056926,\n        \"max\": 889.9104604457018,\n        \"num_unique_values\": 80,\n        \"samples\": [\n          521.2581105294523,\n          665.2112548893001,\n          487.8287742786007\n        ],\n        \"semantic_type\": \"\",\n        \"description\": \"\"\n      }\n    },\n    {\n      \"column\": \"Earning\",\n      \"properties\": {\n        \"dtype\": \"number\",\n        \"std\": 421.70057549993805,\n        \"min\": 1253.989524652497,\n        \"max\": 3171.489707551377,\n        \"num_unique_values\": 80,\n        \"samples\": [\n          2015.055470632317,\n          2311.277142626756,\n          1989.64191786971\n        ],\n        \"semantic_type\": \"\",\n        \"description\": \"\"\n      }\n    },\n    {\n      \"column\": \"group\",\n      \"properties\": {\n        \"dtype\": \"category\",\n        \"num_unique_values\": 2,\n        \"samples\": [\n          \"test\",\n          \"control\"\n        ],\n        \"semantic_type\": \"\",\n        \"description\": \"\"\n      }\n    }\n  ]\n}"
            }
          },
          "metadata": {},
          "execution_count": 12
        }
      ]
    },
    {
      "cell_type": "code",
      "source": [
        "combined_data.shape"
      ],
      "metadata": {
        "colab": {
          "base_uri": "https://localhost:8080/"
        },
        "id": "ipehHcK5wtxI",
        "outputId": "3a9b2b83-20bb-447e-92ea-13d120eaa289"
      },
      "execution_count": 13,
      "outputs": [
        {
          "output_type": "execute_result",
          "data": {
            "text/plain": [
              "(80, 5)"
            ]
          },
          "metadata": {},
          "execution_count": 13
        }
      ]
    },
    {
      "cell_type": "markdown",
      "source": [
        "### Görev 2: A/B Testinin Hipotezinin Tanımlanması"
      ],
      "metadata": {
        "id": "iFRK-Cm2sS8I"
      }
    },
    {
      "cell_type": "code",
      "source": [
        "# Adım 1: Hipotezi tanımlayınız.\n",
        "# H0 : M1 = M2\n",
        "# H1 : M1!= M2\n",
        "\n",
        "### H0 : M1 = M2 -> Kontrol grubu ve test grubu satın alma ortalamaları arasında fark yoktur\n",
        "### H1 : M1!= M2 -> Kontrol grubu ve test grubu satın alma ortalamaları arasında fark vardır"
      ],
      "metadata": {
        "id": "nSvo2UYCsUfi"
      },
      "execution_count": 15,
      "outputs": []
    },
    {
      "cell_type": "code",
      "source": [
        "# Adım 2: Kontrol ve test grubu için purchase (kazanç) ortalamalarını analiz ediniz.\n",
        "combined_data.groupby(\"group\").agg({\"Purchase\": \"mean\"})"
      ],
      "metadata": {
        "id": "PKHi6fzYsY-F",
        "colab": {
          "base_uri": "https://localhost:8080/",
          "height": 142
        },
        "outputId": "6ed609d4-0384-42d6-efa2-73341f24484a"
      },
      "execution_count": 16,
      "outputs": [
        {
          "output_type": "execute_result",
          "data": {
            "text/plain": [
              "         Purchase\n",
              "group            \n",
              "control 550.89406\n",
              "test    582.10610"
            ],
            "text/html": [
              "\n",
              "  <div id=\"df-52a51a1d-3e5b-4cc4-91de-7c64da11ef4f\" class=\"colab-df-container\">\n",
              "    <div>\n",
              "<style scoped>\n",
              "    .dataframe tbody tr th:only-of-type {\n",
              "        vertical-align: middle;\n",
              "    }\n",
              "\n",
              "    .dataframe tbody tr th {\n",
              "        vertical-align: top;\n",
              "    }\n",
              "\n",
              "    .dataframe thead th {\n",
              "        text-align: right;\n",
              "    }\n",
              "</style>\n",
              "<table border=\"1\" class=\"dataframe\">\n",
              "  <thead>\n",
              "    <tr style=\"text-align: right;\">\n",
              "      <th></th>\n",
              "      <th>Purchase</th>\n",
              "    </tr>\n",
              "    <tr>\n",
              "      <th>group</th>\n",
              "      <th></th>\n",
              "    </tr>\n",
              "  </thead>\n",
              "  <tbody>\n",
              "    <tr>\n",
              "      <th>control</th>\n",
              "      <td>550.89406</td>\n",
              "    </tr>\n",
              "    <tr>\n",
              "      <th>test</th>\n",
              "      <td>582.10610</td>\n",
              "    </tr>\n",
              "  </tbody>\n",
              "</table>\n",
              "</div>\n",
              "    <div class=\"colab-df-buttons\">\n",
              "\n",
              "  <div class=\"colab-df-container\">\n",
              "    <button class=\"colab-df-convert\" onclick=\"convertToInteractive('df-52a51a1d-3e5b-4cc4-91de-7c64da11ef4f')\"\n",
              "            title=\"Convert this dataframe to an interactive table.\"\n",
              "            style=\"display:none;\">\n",
              "\n",
              "  <svg xmlns=\"http://www.w3.org/2000/svg\" height=\"24px\" viewBox=\"0 -960 960 960\">\n",
              "    <path d=\"M120-120v-720h720v720H120Zm60-500h600v-160H180v160Zm220 220h160v-160H400v160Zm0 220h160v-160H400v160ZM180-400h160v-160H180v160Zm440 0h160v-160H620v160ZM180-180h160v-160H180v160Zm440 0h160v-160H620v160Z\"/>\n",
              "  </svg>\n",
              "    </button>\n",
              "\n",
              "  <style>\n",
              "    .colab-df-container {\n",
              "      display:flex;\n",
              "      gap: 12px;\n",
              "    }\n",
              "\n",
              "    .colab-df-convert {\n",
              "      background-color: #E8F0FE;\n",
              "      border: none;\n",
              "      border-radius: 50%;\n",
              "      cursor: pointer;\n",
              "      display: none;\n",
              "      fill: #1967D2;\n",
              "      height: 32px;\n",
              "      padding: 0 0 0 0;\n",
              "      width: 32px;\n",
              "    }\n",
              "\n",
              "    .colab-df-convert:hover {\n",
              "      background-color: #E2EBFA;\n",
              "      box-shadow: 0px 1px 2px rgba(60, 64, 67, 0.3), 0px 1px 3px 1px rgba(60, 64, 67, 0.15);\n",
              "      fill: #174EA6;\n",
              "    }\n",
              "\n",
              "    .colab-df-buttons div {\n",
              "      margin-bottom: 4px;\n",
              "    }\n",
              "\n",
              "    [theme=dark] .colab-df-convert {\n",
              "      background-color: #3B4455;\n",
              "      fill: #D2E3FC;\n",
              "    }\n",
              "\n",
              "    [theme=dark] .colab-df-convert:hover {\n",
              "      background-color: #434B5C;\n",
              "      box-shadow: 0px 1px 3px 1px rgba(0, 0, 0, 0.15);\n",
              "      filter: drop-shadow(0px 1px 2px rgba(0, 0, 0, 0.3));\n",
              "      fill: #FFFFFF;\n",
              "    }\n",
              "  </style>\n",
              "\n",
              "    <script>\n",
              "      const buttonEl =\n",
              "        document.querySelector('#df-52a51a1d-3e5b-4cc4-91de-7c64da11ef4f button.colab-df-convert');\n",
              "      buttonEl.style.display =\n",
              "        google.colab.kernel.accessAllowed ? 'block' : 'none';\n",
              "\n",
              "      async function convertToInteractive(key) {\n",
              "        const element = document.querySelector('#df-52a51a1d-3e5b-4cc4-91de-7c64da11ef4f');\n",
              "        const dataTable =\n",
              "          await google.colab.kernel.invokeFunction('convertToInteractive',\n",
              "                                                    [key], {});\n",
              "        if (!dataTable) return;\n",
              "\n",
              "        const docLinkHtml = 'Like what you see? Visit the ' +\n",
              "          '<a target=\"_blank\" href=https://colab.research.google.com/notebooks/data_table.ipynb>data table notebook</a>'\n",
              "          + ' to learn more about interactive tables.';\n",
              "        element.innerHTML = '';\n",
              "        dataTable['output_type'] = 'display_data';\n",
              "        await google.colab.output.renderOutput(dataTable, element);\n",
              "        const docLink = document.createElement('div');\n",
              "        docLink.innerHTML = docLinkHtml;\n",
              "        element.appendChild(docLink);\n",
              "      }\n",
              "    </script>\n",
              "  </div>\n",
              "\n",
              "\n",
              "<div id=\"df-003f940c-8fa0-43f1-96e3-6889017b84b4\">\n",
              "  <button class=\"colab-df-quickchart\" onclick=\"quickchart('df-003f940c-8fa0-43f1-96e3-6889017b84b4')\"\n",
              "            title=\"Suggest charts\"\n",
              "            style=\"display:none;\">\n",
              "\n",
              "<svg xmlns=\"http://www.w3.org/2000/svg\" height=\"24px\"viewBox=\"0 0 24 24\"\n",
              "     width=\"24px\">\n",
              "    <g>\n",
              "        <path d=\"M19 3H5c-1.1 0-2 .9-2 2v14c0 1.1.9 2 2 2h14c1.1 0 2-.9 2-2V5c0-1.1-.9-2-2-2zM9 17H7v-7h2v7zm4 0h-2V7h2v10zm4 0h-2v-4h2v4z\"/>\n",
              "    </g>\n",
              "</svg>\n",
              "  </button>\n",
              "\n",
              "<style>\n",
              "  .colab-df-quickchart {\n",
              "      --bg-color: #E8F0FE;\n",
              "      --fill-color: #1967D2;\n",
              "      --hover-bg-color: #E2EBFA;\n",
              "      --hover-fill-color: #174EA6;\n",
              "      --disabled-fill-color: #AAA;\n",
              "      --disabled-bg-color: #DDD;\n",
              "  }\n",
              "\n",
              "  [theme=dark] .colab-df-quickchart {\n",
              "      --bg-color: #3B4455;\n",
              "      --fill-color: #D2E3FC;\n",
              "      --hover-bg-color: #434B5C;\n",
              "      --hover-fill-color: #FFFFFF;\n",
              "      --disabled-bg-color: #3B4455;\n",
              "      --disabled-fill-color: #666;\n",
              "  }\n",
              "\n",
              "  .colab-df-quickchart {\n",
              "    background-color: var(--bg-color);\n",
              "    border: none;\n",
              "    border-radius: 50%;\n",
              "    cursor: pointer;\n",
              "    display: none;\n",
              "    fill: var(--fill-color);\n",
              "    height: 32px;\n",
              "    padding: 0;\n",
              "    width: 32px;\n",
              "  }\n",
              "\n",
              "  .colab-df-quickchart:hover {\n",
              "    background-color: var(--hover-bg-color);\n",
              "    box-shadow: 0 1px 2px rgba(60, 64, 67, 0.3), 0 1px 3px 1px rgba(60, 64, 67, 0.15);\n",
              "    fill: var(--button-hover-fill-color);\n",
              "  }\n",
              "\n",
              "  .colab-df-quickchart-complete:disabled,\n",
              "  .colab-df-quickchart-complete:disabled:hover {\n",
              "    background-color: var(--disabled-bg-color);\n",
              "    fill: var(--disabled-fill-color);\n",
              "    box-shadow: none;\n",
              "  }\n",
              "\n",
              "  .colab-df-spinner {\n",
              "    border: 2px solid var(--fill-color);\n",
              "    border-color: transparent;\n",
              "    border-bottom-color: var(--fill-color);\n",
              "    animation:\n",
              "      spin 1s steps(1) infinite;\n",
              "  }\n",
              "\n",
              "  @keyframes spin {\n",
              "    0% {\n",
              "      border-color: transparent;\n",
              "      border-bottom-color: var(--fill-color);\n",
              "      border-left-color: var(--fill-color);\n",
              "    }\n",
              "    20% {\n",
              "      border-color: transparent;\n",
              "      border-left-color: var(--fill-color);\n",
              "      border-top-color: var(--fill-color);\n",
              "    }\n",
              "    30% {\n",
              "      border-color: transparent;\n",
              "      border-left-color: var(--fill-color);\n",
              "      border-top-color: var(--fill-color);\n",
              "      border-right-color: var(--fill-color);\n",
              "    }\n",
              "    40% {\n",
              "      border-color: transparent;\n",
              "      border-right-color: var(--fill-color);\n",
              "      border-top-color: var(--fill-color);\n",
              "    }\n",
              "    60% {\n",
              "      border-color: transparent;\n",
              "      border-right-color: var(--fill-color);\n",
              "    }\n",
              "    80% {\n",
              "      border-color: transparent;\n",
              "      border-right-color: var(--fill-color);\n",
              "      border-bottom-color: var(--fill-color);\n",
              "    }\n",
              "    90% {\n",
              "      border-color: transparent;\n",
              "      border-bottom-color: var(--fill-color);\n",
              "    }\n",
              "  }\n",
              "</style>\n",
              "\n",
              "  <script>\n",
              "    async function quickchart(key) {\n",
              "      const quickchartButtonEl =\n",
              "        document.querySelector('#' + key + ' button');\n",
              "      quickchartButtonEl.disabled = true;  // To prevent multiple clicks.\n",
              "      quickchartButtonEl.classList.add('colab-df-spinner');\n",
              "      try {\n",
              "        const charts = await google.colab.kernel.invokeFunction(\n",
              "            'suggestCharts', [key], {});\n",
              "      } catch (error) {\n",
              "        console.error('Error during call to suggestCharts:', error);\n",
              "      }\n",
              "      quickchartButtonEl.classList.remove('colab-df-spinner');\n",
              "      quickchartButtonEl.classList.add('colab-df-quickchart-complete');\n",
              "    }\n",
              "    (() => {\n",
              "      let quickchartButtonEl =\n",
              "        document.querySelector('#df-003f940c-8fa0-43f1-96e3-6889017b84b4 button');\n",
              "      quickchartButtonEl.style.display =\n",
              "        google.colab.kernel.accessAllowed ? 'block' : 'none';\n",
              "    })();\n",
              "  </script>\n",
              "</div>\n",
              "\n",
              "    </div>\n",
              "  </div>\n"
            ],
            "application/vnd.google.colaboratory.intrinsic+json": {
              "type": "dataframe",
              "summary": "{\n  \"name\": \"combined_data\",\n  \"rows\": 2,\n  \"fields\": [\n    {\n      \"column\": \"group\",\n      \"properties\": {\n        \"dtype\": \"string\",\n        \"num_unique_values\": 2,\n        \"samples\": [\n          \"test\",\n          \"control\"\n        ],\n        \"semantic_type\": \"\",\n        \"description\": \"\"\n      }\n    },\n    {\n      \"column\": \"Purchase\",\n      \"properties\": {\n        \"dtype\": \"number\",\n        \"std\": 22.070243638352018,\n        \"min\": 550.8940587702316,\n        \"max\": 582.1060966484675,\n        \"num_unique_values\": 2,\n        \"samples\": [\n          582.1060966484675,\n          550.8940587702316\n        ],\n        \"semantic_type\": \"\",\n        \"description\": \"\"\n      }\n    }\n  ]\n}"
            }
          },
          "metadata": {},
          "execution_count": 16
        }
      ]
    },
    {
      "cell_type": "markdown",
      "source": [
        "### Görev 3: Hipotez Testinin Gerçekleştirilmesi"
      ],
      "metadata": {
        "id": "Y9aoFHxnseB9"
      }
    },
    {
      "cell_type": "code",
      "source": [
        "#Adım 1: Hipotez testi yapılmadan önce varsayım kontrollerini yapınız.\n",
        "#Bunlar Normallik Varsayımı ve Varyans Homojenliğidir. Kontrol ve test grubunun normallik varsayımına uyup uymadığını Purchase değişkeni üzerinden ayrı ayrı test ediniz.\n",
        "# normallik varsayımı:\n",
        "test_stat, pvalue = shapiro(combined_data.loc[combined_data[\"group\"] == \"test\", \"Purchase\"])\n",
        "print('Test Stat for Test Group = %.4f, p-value = %.4f' % (test_stat, pvalue))\n",
        "test_stat, pvalue = shapiro(combined_data.loc[combined_data[\"group\"] == \"control\", \"Purchase\"])\n",
        "print('Test Stat for Control Group = %.4f, p-value = %.4f' % (test_stat, pvalue))"
      ],
      "metadata": {
        "id": "VXjMR6lysfG-",
        "colab": {
          "base_uri": "https://localhost:8080/"
        },
        "outputId": "270d64de-44b7-446b-e81a-8bd9eae9184a"
      },
      "execution_count": 20,
      "outputs": [
        {
          "output_type": "stream",
          "name": "stdout",
          "text": [
            "Test Stat for Test Group = 0.9589, p-value = 0.1541\n",
            "Test Stat for Control Group = 0.9773, p-value = 0.5891\n"
          ]
        }
      ]
    },
    {
      "cell_type": "markdown",
      "source": [
        "- eğer\n",
        "p < 0.05 H0 reddedilir\n",
        "p > 0.05 H0 reddedilemez\n",
        "\n",
        "burada control grubu için p > 0.05 olduğu için HO reddedilemez\n",
        "control grubu normal dağılım varsayımını sağlar"
      ],
      "metadata": {
        "id": "3kXVBxsix7Kz"
      }
    },
    {
      "cell_type": "code",
      "source": [
        "# varyans homojenliği:\n",
        "test_stat, pvalue = levene(combined_data.loc[combined_data[\"group\"] == \"control\", \"Purchase\"],\n",
        "                           combined_data.loc[combined_data[\"group\"] == \"test\", \"Purchase\"])\n",
        "print('Test Stat = %.4f, p-value = %.4f' % (test_stat, pvalue))"
      ],
      "metadata": {
        "colab": {
          "base_uri": "https://localhost:8080/"
        },
        "id": "QusGKeg1yaoL",
        "outputId": "974ec036-9598-43a8-f165-071421ac4fad"
      },
      "execution_count": 21,
      "outputs": [
        {
          "output_type": "stream",
          "name": "stdout",
          "text": [
            "Test Stat = 2.6393, p-value = 0.1083\n"
          ]
        }
      ]
    },
    {
      "cell_type": "markdown",
      "source": [
        "- eğer\n",
        "p < 0.05 H0 reddedilir\n",
        "p > 0.05 H0 reddedilemez\n",
        "\n",
        "burada p > 0.05 olduğu için H0 reddedilemez\n",
        "control grubu ve test grubu varyans homejenliği varsayımını sağlar yani varyanslar homojendir diyebiliriz."
      ],
      "metadata": {
        "id": "G4F2e58MyqbQ"
      }
    },
    {
      "cell_type": "code",
      "source": [
        "# Adım 2: Normallik Varsayımı ve Varyans Homojenliği sonuçlarına göre uygun testi seçiniz.\n",
        "\n",
        "# testler sonucu varsayımlar sağlandığı için bağımsız iki örneklem  t-testi uygulamalıyız.\n",
        "# H0: M1 = M2 -> Kontrol grubu ve test grubu satın alma ortalamaları arasında anlamlı bir fark yoktur\n",
        "# H1: M1 != M2 -> Kontrol grubu ve test grubu satın alma ortalamaları arasında anlamlı bir fark vardır"
      ],
      "metadata": {
        "id": "reVETlSksgsI"
      },
      "execution_count": null,
      "outputs": []
    },
    {
      "cell_type": "code",
      "source": [
        "# Adım 3: Test sonucunda elde edilen p_value değerini göz önünde bulundurarak kontrol ve test grubu satın alma ortalamaları arasında istatistiki\n",
        "# olarak anlamlı bir fark olup olmadığını yorumlayınız.\n",
        "\n",
        "test_stat, pvalue = ttest_ind(combined_data.loc[combined_data[\"group\"] == \"control\", \"Purchase\"],\n",
        "                              combined_data.loc[combined_data[\"group\"] == \"test\", \"Purchase\"],\n",
        "                              equal_var=True)\n",
        "print('Test Stat = %.4f, p-value = %.4f' % (test_stat, pvalue))"
      ],
      "metadata": {
        "id": "0ljsDMs8skqI",
        "colab": {
          "base_uri": "https://localhost:8080/"
        },
        "outputId": "a9802e89-24df-4fe5-e427-d081fdd0c592"
      },
      "execution_count": 22,
      "outputs": [
        {
          "output_type": "stream",
          "name": "stdout",
          "text": [
            "Test Stat = -0.9416, p-value = 0.3493\n"
          ]
        }
      ]
    },
    {
      "cell_type": "markdown",
      "source": [
        "- eğer\n",
        "p < 0.05 H0 reddedilir\n",
        "p > 0.05 H0 reddedilemez\n",
        "\n",
        "p-value=0.3493 bu yüzden HO reddedilemez.kontrol ve test grubu satın alma ortalamaları arasında anlamlı bir fark yoktur diyebiliriz"
      ],
      "metadata": {
        "id": "GqdRue_w1AJg"
      }
    },
    {
      "cell_type": "markdown",
      "source": [
        "### Görev 4: Sonuçların Analizi"
      ],
      "metadata": {
        "id": "QDpAiObysoQG"
      }
    },
    {
      "cell_type": "markdown",
      "source": [
        "Adım 1: Hangi testi kullandınız, sebeplerini belirtiniz.\n",
        "- önce hipotez testimizi gerçekleştirdik. hangi testi yapacağımızı daha iyi anlamak için varsayım kontrolleri yaptık. normallik varsayımına da varyans homojenliği varsayımına da uyduğu için iki örneklem t testini gerçekleştirdik"
      ],
      "metadata": {
        "id": "3nblVTHhsrmp"
      }
    },
    {
      "cell_type": "markdown",
      "source": [
        "Adım 2: Elde ettiğiniz test sonuçlarına göre müşteriye tavsiyede bulununuz.\n",
        "-\n",
        "\n",
        "Elde ettiğimiz test sonuçlarına göre kontrol ve test grubu arasında anlamlı bir fark bulunmamaktadır, bu yüzden uygulanan yeni yönteminin çok etkili olmadığını söyleyebiliriz. Bunun yerine mevcut stratejilere devam edilmesi daha mantıklıdır."
      ],
      "metadata": {
        "id": "g4iFGg6ystCw"
      }
    }
  ]
}